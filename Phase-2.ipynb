{
  "cells": [
    {
      "cell_type": "markdown",
      "metadata": {
        "id": "APd5Ingr_q9F"
      },
      "source": [
        "## Project Phase 2 \n",
        "## Group 9:\n",
        "\n",
        "* Haseeb ur Rehman Faheem -- 23100044\n",
        "* Ahmed Ateeq -- 22100145\n",
        "* Umme Ammara -- 22100100 \n",
        "* Sara Sitwat -- 22100076\n",
        "* Mishal Khurshid -- 22100052\n",
        "* Mesum Isfahany -- 22020307"
      ]
    },
    {
      "cell_type": "markdown",
      "metadata": {
        "id": "jgDem7hZAg16"
      },
      "source": [
        "## Importing the relevant libraries"
      ]
    },
    {
      "cell_type": "code",
      "execution_count": 1,
      "metadata": {
        "colab": {
          "base_uri": "https://localhost:8080/"
        },
        "id": "de9qfru2Ai9v",
        "outputId": "514fe2a8-a86d-4484-d4a4-30fe1d4a1f59"
      },
      "outputs": [
        {
          "name": "stdout",
          "output_type": "stream",
          "text": [
            "Collecting python_speech_features\n",
            "  Downloading python_speech_features-0.6.tar.gz (5.6 kB)\n",
            "Building wheels for collected packages: python-speech-features\n",
            "  Building wheel for python-speech-features (setup.py) ... \u001b[?25l\u001b[?25hdone\n",
            "  Created wheel for python-speech-features: filename=python_speech_features-0.6-py3-none-any.whl size=5888 sha256=f96d22037d37696fe1efe927c357a02aff320f5a88e069de9fc43e0732122b29\n",
            "  Stored in directory: /root/.cache/pip/wheels/b0/0e/94/28cd6afa3cd5998a63eef99fe31777acd7d758f59cf24839eb\n",
            "Successfully built python-speech-features\n",
            "Installing collected packages: python-speech-features\n",
            "Successfully installed python-speech-features-0.6\n"
          ]
        }
      ],
      "source": [
        "!pip install python_speech_features"
      ]
    },
    {
      "cell_type": "code",
      "execution_count": 3,
      "metadata": {
        "id": "JWD_AVQ2A1iL"
      },
      "outputs": [],
      "source": [
        "import python_speech_features as mfcc\n",
        "from scipy.io.wavfile import read\n",
        "import numpy as np\n",
        "import glob\n",
        "from matplotlib import pyplot as plt\n",
        "import pandas as pd\n",
        "import os\n",
        "import random\n",
        "import logging\n",
        "from google.colab import drive"
      ]
    },
    {
      "cell_type": "markdown",
      "metadata": {
        "id": "xxeYkGznAYcY"
      },
      "source": [
        "## Reading and Pre-processing the data"
      ]
    },
    {
      "cell_type": "code",
      "execution_count": 4,
      "metadata": {
        "colab": {
          "base_uri": "https://localhost:8080/"
        },
        "id": "zQtuQYK3Ad1K",
        "outputId": "f1c1c463-ac92-4148-d60a-2556848187ad"
      },
      "outputs": [
        {
          "name": "stdout",
          "output_type": "stream",
          "text": [
            "Mounted at /content/drive\n"
          ]
        }
      ],
      "source": [
        "drive.mount('/content/drive') ## mounting the drive"
      ]
    },
    {
      "cell_type": "code",
      "execution_count": 5,
      "metadata": {
        "id": "Q1sGBsXvA-0N"
      },
      "outputs": [],
      "source": [
        "RecordingNames = []\n",
        "totalRecordings = 0\n",
        "listOfSr = []\n",
        "listOfAudio = []\n",
        "features = []\n",
        "labels = []\n",
        "path = \"/content/drive/My Drive/Project_ML/Recordings\"  ## change this accordingly. I added a shortcut of the dataset to my own drive."
      ]
    },
    {
      "cell_type": "code",
      "execution_count": 6,
      "metadata": {
        "id": "kTVV0_lSBKFY"
      },
      "outputs": [],
      "source": [
        "logger = logging.getLogger()\n",
        "logger.setLevel(logging.ERROR) ### to hide some errors that show up when we read the data"
      ]
    },
    {
      "cell_type": "code",
      "execution_count": 7,
      "metadata": {
        "id": "pg1NEyfzBUCp"
      },
      "outputs": [],
      "source": [
        "def get_MFCC(audio, sr): ### MFCC function provided by the course staff\n",
        "    features = mfcc.mfcc(audio, sr, 0.025, 0.01, 13, appendEnergy = True)\n",
        "    return np.mean(features, axis=0)"
      ]
    },
    {
      "cell_type": "code",
      "execution_count": 9,
      "metadata": {
        "colab": {
          "base_uri": "https://localhost:8080/"
        },
        "id": "LwCvhCvvBY70",
        "outputId": "4654cfe4-9f66-4bfc-dc54-ac94e6046747"
      },
      "outputs": [
        {
          "name": "stderr",
          "output_type": "stream",
          "text": [
            "/usr/local/lib/python3.7/dist-packages/ipykernel_launcher.py:4: WavFileWarning: Chunk (non-data) not understood, skipping it.\n",
            "  after removing the cwd from sys.path.\n"
          ]
        }
      ],
      "source": [
        "for each in os.walk(path):\n",
        "  for eachFilename in each[2]: ## this loop loops over the entire folder of the recordings\n",
        "    filePath = os.path.join(path,eachFilename) ## constructing the path\n",
        "    sr, audio = read(filePath) \n",
        "    feature = get_MFCC(audio, sr) ## getting feature\n",
        "    features.append(feature) ## appending into the features list\n",
        "    listOfSr.append(sr) ## just in case\n",
        "    listOfAudio.append(audio) ## just in case\n",
        "    labels.append(eachFilename[0:2]) ## appending the first 2 characters into the labels list"
      ]
    },
    {
      "cell_type": "code",
      "execution_count": 10,
      "metadata": {
        "colab": {
          "base_uri": "https://localhost:8080/"
        },
        "id": "SYymX2cDGKO5",
        "outputId": "8240308b-ee51-49fd-cff4-65066e57a14a"
      },
      "outputs": [
        {
          "name": "stdout",
          "output_type": "stream",
          "text": [
            "Total number of recordings are:  17380\n"
          ]
        }
      ],
      "source": [
        "print(\"Total number of recordings are: \", len(features))"
      ]
    },
    {
      "cell_type": "markdown",
      "metadata": {
        "id": "cO233_-ciyt3"
      },
      "source": [
        "### Converting the labels into 0-1-2\n",
        "* 0 is 'en'\n",
        "* 1 is 'ur'\n",
        "* 2 is 'ue'"
      ]
    },
    {
      "cell_type": "code",
      "execution_count": 64,
      "metadata": {
        "colab": {
          "base_uri": "https://localhost:8080/"
        },
        "id": "Lim7Ndcfix6C",
        "outputId": "1022914c-7e0e-47b7-9585-65eee3f1c3bf"
      },
      "outputs": [
        {
          "name": "stdout",
          "output_type": "stream",
          "text": [
            "length of labels array 17380\n"
          ]
        }
      ],
      "source": [
        "newLabels = []\n",
        "for i in range(len(labels)):\n",
        "  if labels[i] == \"en\":\n",
        "    newLabels.append(0)\n",
        "  elif labels[i] == \"ur\":\n",
        "    newLabels.append(1)\n",
        "  elif labels[i] == \"ue\":\n",
        "    newLabels.append(2)\n",
        "print(\"length of labels array\" , len(newLabels))"
      ]
    },
    {
      "cell_type": "markdown",
      "metadata": {
        "id": "0e9CKz00B4ez"
      },
      "source": [
        "### Splitting the data into 80:20 training and testing ratio"
      ]
    },
    {
      "cell_type": "code",
      "execution_count": 11,
      "metadata": {
        "id": "E0_j71NBBvyR"
      },
      "outputs": [],
      "source": [
        "from sklearn.model_selection import train_test_split ## using the built in train_test_split to split our data"
      ]
    },
    {
      "cell_type": "code",
      "execution_count": 65,
      "metadata": {
        "colab": {
          "base_uri": "https://localhost:8080/"
        },
        "id": "GM--3-tEGWc5",
        "outputId": "0f58cbd8-b541-43c7-a305-8138bbfe69db"
      },
      "outputs": [
        {
          "name": "stdout",
          "output_type": "stream",
          "text": [
            "shape of testX:  (3476, 13)\n",
            "shape of testY:  (3476,)\n",
            "shape of trainX:  (13904, 13)\n",
            "shape of trainY:  (13904,)\n"
          ]
        }
      ],
      "source": [
        "trainX, testX, trainY, testY = train_test_split(features, newLabels, test_size=0.2, random_state = 40) ### splitting here\n",
        "\n",
        "### converting the arrays into numpy arrays\n",
        "testX = np.array(testX)\n",
        "testY = np.array(testY)\n",
        "trainX = np.array(trainX)\n",
        "trainY = np.array(trainY)\n",
        "\n",
        "### printing the shape of the arrays\n",
        "print(\"shape of testX: \", testX.shape)\n",
        "print(\"shape of testY: \",testY.shape)\n",
        "print(\"shape of trainX: \",trainX.shape)\n",
        "print(\"shape of trainY: \",trainY.shape)"
      ]
    },
    {
      "cell_type": "markdown",
      "metadata": {
        "id": "EZU41jHjGogf"
      },
      "source": [
        "### Using sklearns preprocessing to scale train X and test X"
      ]
    },
    {
      "cell_type": "code",
      "execution_count": 66,
      "metadata": {
        "id": "lX2nMVsNGniK"
      },
      "outputs": [],
      "source": [
        "from sklearn import preprocessing ### using the built in preprocessing"
      ]
    },
    {
      "cell_type": "code",
      "execution_count": 67,
      "metadata": {
        "id": "t9qbmrWSHCs2"
      },
      "outputs": [],
      "source": [
        "scaler_train = preprocessing.StandardScaler().fit(trainX) ### scaling trainX\n",
        "trainX = scaler_train.transform(trainX)\n",
        "\n",
        "scaler_test = preprocessing.StandardScaler().fit(testX) ### scaling testX\n",
        "testX = scaler_test.transform(testX)"
      ]
    },
    {
      "cell_type": "markdown",
      "metadata": {
        "id": "tlGhW6CxAO0e"
      },
      "source": [
        "## Part 1\n",
        "### We are using KNN for part1 since it is the best suited for our dataset and gives the highest accuracy"
      ]
    },
    {
      "cell_type": "markdown",
      "metadata": {
        "id": "94kvj8ECHMhp"
      },
      "source": [
        "### Importing the relevant Sklearn libraries for KNN"
      ]
    },
    {
      "cell_type": "code",
      "execution_count": 75,
      "metadata": {
        "id": "O_hNQFUxAM02"
      },
      "outputs": [],
      "source": [
        "from sklearn.neighbors import KNeighborsClassifier\n",
        "from sklearn.metrics import accuracy_score, classification_report, confusion_matrix, precision_score, recall_score, f1_score\n",
        "from sklearn.ensemble import BaggingClassifier\n",
        "from sklearn.model_selection import cross_validate\n",
        "from sklearn.metrics import mean_squared_error"
      ]
    },
    {
      "cell_type": "markdown",
      "metadata": {
        "id": "foILGEAyIKm9"
      },
      "source": [
        "### Performing 5fold cross validation to find the best value of K"
      ]
    },
    {
      "cell_type": "code",
      "execution_count": 72,
      "metadata": {
        "id": "UT26Uh_fHc-N"
      },
      "outputs": [],
      "source": [
        "def cross_validation_KNN(X,y): ## function for cross validation\n",
        "    k = [1,2,3,4,5,6,7,8,9,10] ## 10 different values of k\n",
        "    a = [] ## array to store avg accuracies for each value of k\n",
        "    f = [] ## array to store avg F1 score for each value of k\n",
        "    errors = [] ## array to store avg error for each value of k\n",
        "    for i in range(len(k)):\n",
        "        #Declare knn object\n",
        "        knn = KNeighborsClassifier(n_neighbors=k[i])\n",
        "        #Cross validate \n",
        "        scoring = cross_validate(knn, X, y, cv=5, scoring=(\"accuracy\",\"f1_macro\",\"neg_mean_squared_error\"))\n",
        "        avg_acc = np.average(scoring['test_accuracy'])\n",
        "        avg_f1 = np.average(scoring['test_f1_macro'])\n",
        "        err = np.average(scoring['test_neg_mean_squared_error'])\n",
        "        errors.append(err)\n",
        "        a.append(avg_acc) \n",
        "        f.append(avg_f1)\n",
        "    return a, f, errors"
      ]
    },
    {
      "cell_type": "code",
      "execution_count": 73,
      "metadata": {
        "id": "HgZ2VlrvIrAi"
      },
      "outputs": [],
      "source": [
        "listOfAccuracies, listOfF1Score, listOfErrors = cross_validation_KNN(trainX,trainY)"
      ]
    },
    {
      "cell_type": "markdown",
      "metadata": {
        "id": "aPOVbRSmI-cN"
      },
      "source": [
        "### Plotting the average Accuracies, F1 score and negative mean squared loss after cross validation\n",
        "* please note that for each k the values of accuracies, f1 score and loss computed is the average after performing cross validation for each value of k"
      ]
    },
    {
      "cell_type": "code",
      "execution_count": 74,
      "metadata": {
        "colab": {
          "base_uri": "https://localhost:8080/",
          "height": 851
        },
        "id": "K4yljwD3I0BK",
        "outputId": "f40d3bca-6536-4d8e-fb56-b64bfd7a44bb"
      },
      "outputs": [
        {
          "data": {
            "image/png": "[encoded data removed]",
            "text/plain": [
              "<Figure size 432x288 with 1 Axes>"
            ]
          },
          "metadata": {
            "needs_background": "light"
          },
          "output_type": "display_data"
        },
        {
          "data": {
            "image/png": "[encoded data removed]",
            "text/plain": [
              "<Figure size 432x288 with 1 Axes>"
            ]
          },
          "metadata": {
            "needs_background": "light"
          },
          "output_type": "display_data"
        },
        {
          "data": {
            "image/png": "[encoded data removed]",
            "text/plain": [
              "<Figure size 432x288 with 1 Axes>"
            ]
          },
          "metadata": {
            "needs_background": "light"
          },
          "output_type": "display_data"
        }
      ],
      "source": [
        "#Plot Accuracy graph\n",
        "x = np.array([1,2,3,4,5,6,7,8,9,10])\n",
        "y = np.array(listOfAccuracies)\n",
        "plt.plot(x,y)\n",
        "plt.xlabel('K')\n",
        "plt.ylabel('Accuracy')\n",
        "plt.title('Classification Accuracies')\n",
        "plt.show()\n",
        "\n",
        "\n",
        "#Plot F1 Score graph \n",
        "y2 = np.array(listOfF1Score)\n",
        "plt.plot(x,y2)\n",
        "plt.xlabel('K')\n",
        "plt.ylabel('F1 Score')\n",
        "plt.title('F1 Score')\n",
        "plt.show()\n",
        "\n",
        "#Plot loss graph\n",
        "y3 = np.array(listOfErrors)\n",
        "plt.plot(x,y3)\n",
        "plt.xlabel('K')\n",
        "plt.ylabel('Negative Mean Squared Error')\n",
        "plt.title('Average Negative Mean Squared Error for Validation')\n",
        "plt.show()"
      ]
    },
    {
      "cell_type": "markdown",
      "metadata": {
        "id": "_hxSrnGYJd0u"
      },
      "source": [
        "### It can be concluded that 1 and 3 are the two best values for k.\n",
        "### so now we will be running KNN for these 2 values to check its accuracy on Test data"
      ]
    },
    {
      "cell_type": "code",
      "execution_count": 76,
      "metadata": {
        "colab": {
          "base_uri": "https://localhost:8080/"
        },
        "id": "T9qkB57KJa88",
        "outputId": "a2896f95-86f1-4010-d78f-5bf1613db381"
      },
      "outputs": [
        {
          "name": "stdout",
          "output_type": "stream",
          "text": [
            "For k = 1\n",
            "Accuracy:  0.799482163406214\n",
            "Precision score:  0.7959067598381647\n",
            "Recall score:  0.7951324284509732\n",
            "F1 score:  0.7953528015336184\n",
            "Mean Squared Error:  0.4024741081703107\n",
            "confusion_matrix: \n",
            " [[ 784  115  113]\n",
            " [ 131  838  123]\n",
            " [ 121   94 1157]]\n",
            "Report: \n",
            "               precision    recall  f1-score   support\n",
            "\n",
            "           0       0.76      0.77      0.77      1012\n",
            "           1       0.80      0.77      0.78      1092\n",
            "           2       0.83      0.84      0.84      1372\n",
            "\n",
            "    accuracy                           0.80      3476\n",
            "   macro avg       0.80      0.80      0.80      3476\n",
            "weighted avg       0.80      0.80      0.80      3476\n",
            "\n"
          ]
        }
      ],
      "source": [
        "print(\"For k = 1\")\n",
        "neigh = KNeighborsClassifier(n_neighbors=1) ## declaring the knn object\n",
        "neigh.fit(trainX, trainY) ## fitting the knn on training data\n",
        "predicted = neigh.predict(testX) ## using our model to predict on testing data\n",
        "accuracy = accuracy_score(testY,predicted) ### calculating the accuracy\n",
        "confusionMatrix = confusion_matrix(testY,predicted) ### calculating the confusion matrix\n",
        "report = classification_report(testY,predicted) ### calculating the report\n",
        "precision = precision_score(testY,predicted, average = 'macro') ## calculating the precision\n",
        "recall = recall_score(testY,predicted, average = 'macro') ## calculating the recall\n",
        "f1Score = f1_score(testY,predicted, average = 'macro') ## calculating the f1 score\n",
        "meanSquaredError = mean_squared_error(testY,predicted) ## calculating the mean squared error\n",
        "\n",
        "\n",
        "print(\"Accuracy: \", accuracy)\n",
        "print(\"Precision score: \", precision)\n",
        "print(\"Recall score: \", recall)\n",
        "print(\"F1 score: \", f1Score)\n",
        "print(\"Mean Squared Error: \", meanSquaredError)\n",
        "print(\"confusion_matrix: \\n\", confusionMatrix)\n",
        "print(\"Report: \\n\", report)"
      ]
    },
    {
      "cell_type": "code",
      "execution_count": 77,
      "metadata": {
        "colab": {
          "base_uri": "https://localhost:8080/"
        },
        "id": "3p4zKSUlKhnV",
        "outputId": "a3328811-58a6-47bf-a4c3-2fa998b11cc9"
      },
      "outputs": [
        {
          "name": "stdout",
          "output_type": "stream",
          "text": [
            "For k = 3\n",
            "Accuracy:  0.8086881472957422\n",
            "Precision score:  0.8064821510609653\n",
            "Recall score:  0.8050737835564808\n",
            "F1 score:  0.8045033885744476\n",
            "Mean Squared Error:  0.3967203682393556\n",
            "confusion_matrix: \n",
            " [[ 817   89  106]\n",
            " [ 168  827   97]\n",
            " [ 132   73 1167]]\n",
            "Report: \n",
            "               precision    recall  f1-score   support\n",
            "\n",
            "           0       0.73      0.81      0.77      1012\n",
            "           1       0.84      0.76      0.79      1092\n",
            "           2       0.85      0.85      0.85      1372\n",
            "\n",
            "    accuracy                           0.81      3476\n",
            "   macro avg       0.81      0.81      0.80      3476\n",
            "weighted avg       0.81      0.81      0.81      3476\n",
            "\n"
          ]
        }
      ],
      "source": [
        "print(\"For k = 3\")\n",
        "neigh = KNeighborsClassifier(n_neighbors=3) ## declaring the knn object\n",
        "neigh.fit(trainX, trainY) ## fitting the knn on training data\n",
        "predicted = neigh.predict(testX) ## using our model to predict on testing data\n",
        "accuracy = accuracy_score(testY,predicted) ### calculating the accuracy\n",
        "\n",
        "confusionMatrix = confusion_matrix(testY,predicted) ### calculating the confusion matrix\n",
        "report = classification_report(testY,predicted) ### calculating the report\n",
        "precision = precision_score(testY,predicted, average = 'macro') ### calculating the precision\n",
        "recall = recall_score(testY,predicted, average = 'macro') ### calculating the recall\n",
        "f1Score = f1_score(testY,predicted, average = 'macro') ## calculating the f1 score\n",
        "meanSquaredError = mean_squared_error(testY,predicted) ## calculating the mean squared error\n",
        "\n",
        "print(\"Accuracy: \", accuracy)\n",
        "print(\"Precision score: \", precision)\n",
        "print(\"Recall score: \", recall)\n",
        "print(\"F1 score: \", f1Score)\n",
        "print(\"Mean Squared Error: \", meanSquaredError)\n",
        "print(\"confusion_matrix: \\n\", confusionMatrix)\n",
        "print(\"Report: \\n\", report)"
      ]
    },
    {
      "cell_type": "markdown",
      "metadata": {
        "id": "Aw2iVEbjKxPF"
      },
      "source": [
        "### The value of k=3 gave better results and to improve accuracy we will now we use the ensemble method/bagging"
      ]
    },
    {
      "cell_type": "code",
      "execution_count": 78,
      "metadata": {
        "colab": {
          "base_uri": "https://localhost:8080/"
        },
        "id": "vDwjlKrTKtkc",
        "outputId": "5b9bcef6-1fc7-4225-a65d-9abfac58cc15"
      },
      "outputs": [
        {
          "name": "stdout",
          "output_type": "stream",
          "text": [
            "Accuracy:  0.8181818181818182\n",
            "Precision score:  0.8155516281677112\n",
            "Recall score:  0.8132276872294618\n",
            "F1 score:  0.8140340689565609\n",
            "Mean Squared Error:  0.36565017261219795\n",
            "confusion_matrix: \n",
            " [[ 802   96  114]\n",
            " [ 127  850  115]\n",
            " [  99   81 1192]]\n",
            "Report: \n",
            "               precision    recall  f1-score   support\n",
            "\n",
            "           0       0.78      0.79      0.79      1012\n",
            "           1       0.83      0.78      0.80      1092\n",
            "           2       0.84      0.87      0.85      1372\n",
            "\n",
            "    accuracy                           0.82      3476\n",
            "   macro avg       0.82      0.81      0.81      3476\n",
            "weighted avg       0.82      0.82      0.82      3476\n",
            "\n"
          ]
        }
      ],
      "source": [
        "#Use Bagging to improve accuracy \n",
        "bagging = BaggingClassifier(KNeighborsClassifier(n_neighbors=3), n_estimators=104) ## using bagging to create our model\n",
        "bagging.fit(trainX, trainY) ## fitting our model on training data\n",
        "predicted = bagging.predict(testX) ## predicting on test data \n",
        "accuracy = accuracy_score(testY,predicted) ## calculating the accuracy\n",
        "confusionMatrix = confusion_matrix(testY,predicted) ## calculating the confusion matrix\n",
        "report = classification_report(testY,predicted) ## calculating the report\n",
        "precision = precision_score(testY,predicted, average = 'macro') ## calculating the precision\n",
        "recall = recall_score(testY,predicted, average = 'macro') ## calculating the recall\n",
        "f1Score = f1_score(testY,predicted, average = 'macro') ## calculating the f1 score\n",
        "meanSquaredError = mean_squared_error(testY,predicted) ## calculating the mean squared error\n",
        "\n",
        "print(\"Accuracy: \", accuracy)\n",
        "print(\"Precision score: \", precision)\n",
        "print(\"Recall score: \", recall)\n",
        "print(\"F1 score: \", f1Score)\n",
        "print(\"Mean Squared Error: \", meanSquaredError)\n",
        "print(\"confusion_matrix: \\n\", confusionMatrix)\n",
        "print(\"Report: \\n\", report)"
      ]
    },
    {
      "cell_type": "markdown",
      "metadata": {
        "id": "zcFP5X2eLlgz"
      },
      "source": [
        "### For KNN, we can conclude that for k = 3, using bagging further improves the results and we get an accuracy of 81.99 ~ 82%"
      ]
    },
    {
      "cell_type": "markdown",
      "metadata": {
        "id": "tshoxRxONDgz"
      },
      "source": [
        "## Part 2: SVM "
      ]
    },
    {
      "cell_type": "markdown",
      "metadata": {
        "id": "_Iac-Sk9NKL_"
      },
      "source": [
        "### Importing the relevant Sklearn libraries for SVM"
      ]
    },
    {
      "cell_type": "code",
      "execution_count": 31,
      "metadata": {
        "id": "M5pfa-QPLRHU"
      },
      "outputs": [],
      "source": [
        "from sklearn.svm import SVC"
      ]
    },
    {
      "cell_type": "markdown",
      "metadata": {
        "id": "pzCwAPStNj7o"
      },
      "source": [
        "### Implementing cross validation for SVM to get the best value of C"
      ]
    },
    {
      "cell_type": "code",
      "execution_count": 103,
      "metadata": {
        "id": "8wp7c2mWNTPJ"
      },
      "outputs": [],
      "source": [
        "def sklearn_cross_validate(X,y):\n",
        "    c = [1,10,20,30,40,50,60,70,80,90,100,110,120,130,140,150] ## different values of C\n",
        "    a = [] ## accuracy list\n",
        "    f = [] ## f1 score list\n",
        "    errors = [] ## errors list\n",
        "    for i in range(len(c)):\n",
        "        #Declare svm object\n",
        "        svm_clf = SVC(C=c[i])\n",
        "        #Cross validate \n",
        "        scoring = cross_validate(svm_clf, X, y, cv=5, scoring=(\"accuracy\",\"f1_macro\",\"neg_mean_squared_error\"))\n",
        "        avg_acc = np.average(scoring['test_accuracy'])\n",
        "        avg_f1 = np.average(scoring['test_f1_macro'])\n",
        "        err = np.average(scoring['test_neg_mean_squared_error'])\n",
        "        a.append(avg_acc) ## appending the average accuracy for 5fold on ith value of C into the list of accuracies \n",
        "        f.append(avg_f1) ## appending the average f1 score for 5fold on ith value of C into the list of f1 scores \n",
        "        errors.append(err) ### appending the average neg mean squared error\n",
        "    return a, f, errors"
      ]
    },
    {
      "cell_type": "code",
      "execution_count": 104,
      "metadata": {
        "id": "GO9r597WN7dK"
      },
      "outputs": [],
      "source": [
        "c = [1,10,20,30,40,50,60,70,80,90,100,110,120,130,140,150]   \n",
        "listOfAccuracies_SVM, listOfF1Scores_SVM, listOfErrors_SVM = sklearn_cross_validate(trainX,trainY)"
      ]
    },
    {
      "cell_type": "code",
      "execution_count": 105,
      "metadata": {
        "colab": {
          "base_uri": "https://localhost:8080/",
          "height": 851
        },
        "id": "mYgG01HtODaI",
        "outputId": "9ff47f35-f70c-433f-a1ef-334d1b9c0343"
      },
      "outputs": [
        {
          "data": {
            "image/png": "[encoded data removed]",
            "text/plain": [
              "<Figure size 432x288 with 1 Axes>"
            ]
          },
          "metadata": {
            "needs_background": "light"
          },
          "output_type": "display_data"
        },
        {
          "data": {
            "image/png": "[encoded data removed]",
            "text/plain": [
              "<Figure size 432x288 with 1 Axes>"
            ]
          },
          "metadata": {
            "needs_background": "light"
          },
          "output_type": "display_data"
        },
        {
          "data": {
            "image/png": "[encoded data removed]",
            "text/plain": [
              "<Figure size 432x288 with 1 Axes>"
            ]
          },
          "metadata": {
            "needs_background": "light"
          },
          "output_type": "display_data"
        }
      ],
      "source": [
        "#Plot Accuracy graph\n",
        "x = np.array(c)\n",
        "y = np.array(listOfAccuracies_SVM)\n",
        "plt.plot(x,y)\n",
        "plt.xlabel('C')\n",
        "plt.ylabel('Accuracy')\n",
        "plt.title('Classification Accuracies')\n",
        "plt.show()\n",
        "#Plot F1 Score graph \n",
        "y2 = np.array(listOfF1Scores_SVM)\n",
        "plt.plot(x,y2)\n",
        "plt.xlabel('C')\n",
        "plt.ylabel('F1 Score')\n",
        "plt.title('F1 Score')\n",
        "plt.show()\n",
        "#Plot loss graph\n",
        "y3 = np.array(listOfErrors_SVM)\n",
        "plt.plot(x,y3)\n",
        "plt.xlabel('K')\n",
        "plt.ylabel('Negative Mean Squared Error')\n",
        "plt.title('Average Negative Mean Squared Error for Validation')\n",
        "plt.show()"
      ]
    },
    {
      "cell_type": "markdown",
      "metadata": {
        "id": "Pjk38IiGV42t"
      },
      "source": [
        "### The best value of C seems be around 60-80, we will be using 80\n",
        "### Now we will be finding the best value of gamma by keeping C constant"
      ]
    },
    {
      "cell_type": "code",
      "execution_count": 36,
      "metadata": {
        "colab": {
          "base_uri": "https://localhost:8080/"
        },
        "id": "bxy9lWA1Vxwz",
        "outputId": "07a68c19-55de-410d-d377-fbeb19da94cc"
      },
      "outputs": [
        {
          "name": "stdout",
          "output_type": "stream",
          "text": [
            "Keeping C constant at 80 and finding the best value of gamma\n",
            "For gamma =  0.1 accuracy =  0.7873993095512083\n",
            "For gamma =  0.2 accuracy =  0.7951668584579977\n",
            "For gamma =  0.3 accuracy =  0.8178941311852704\n",
            "For gamma =  0.4 accuracy =  0.8311277330264673\n",
            "For gamma =  0.5 accuracy =  0.8340046029919448\n",
            "For gamma =  0.6 accuracy =  0.8380322209436134\n",
            "For gamma =  0.7 accuracy =  0.8363060989643268\n",
            "For gamma =  0.8 accuracy =  0.8351553509781358\n",
            "For gamma =  0.9 accuracy =  0.8374568469505178\n",
            "For gamma =  1.0 accuracy =  0.8305523590333717\n"
          ]
        }
      ],
      "source": [
        "print(\"Keeping C constant at 80 and finding the best value of gamma\")\n",
        "\n",
        "gammas = [0.1,0.2,0.3,0.4,0.5,0.6,0.7,0.8,0.9,1.0] ## list of gammas\n",
        "accuracyListGamma = []\n",
        "\n",
        "for g in gammas:\n",
        "  svm = SVC(kernel='rbf', C = 140, gamma = g).fit(trainX, trainY)\n",
        "  preds = svm.predict(testX)\n",
        "  acc = accuracy_score(testY,preds)\n",
        "  accuracyListGamma.append(acc)\n",
        "  print(\"For gamma = \", g, \"accuracy = \", acc)"
      ]
    },
    {
      "cell_type": "markdown",
      "metadata": {
        "id": "Ts0OOmNDY2gz"
      },
      "source": [
        "### The best value of gamma is 0.6.\n",
        "### To further improve the accuracy we will try the ensemble/bagging method"
      ]
    },
    {
      "cell_type": "code",
      "execution_count": 39,
      "metadata": {
        "colab": {
          "base_uri": "https://localhost:8080/"
        },
        "id": "s3evhni-ZG_J",
        "outputId": "32b515fd-a0ef-47a6-aafe-93acdeb013ee"
      },
      "outputs": [
        {
          "name": "stdout",
          "output_type": "stream",
          "text": [
            "Accuracy:  0.8414844649021864\n",
            "Precision score:  0.8405980296473627\n",
            "Recall score:  0.8363236635197593\n",
            "F1 score:  0.8377300315518418\n",
            "confusion_matrix: \n",
            " [[ 799  117   96]\n",
            " [ 101 1197   74]\n",
            " [ 126  112  854]]\n",
            "Report: \n",
            "               precision    recall  f1-score   support\n",
            "\n",
            "          en       0.78      0.79      0.78      1012\n",
            "          ue       0.84      0.87      0.86      1372\n",
            "          ur       0.83      0.78      0.81      1092\n",
            "\n",
            "    accuracy                           0.82      3476\n",
            "   macro avg       0.82      0.81      0.82      3476\n",
            "weighted avg       0.82      0.82      0.82      3476\n",
            "\n"
          ]
        }
      ],
      "source": [
        "clf = BaggingClassifier(base_estimator=SVC(kernel='rbf', C = 100, gamma = 0.6),\n",
        "                        n_estimators=20, random_state=40).fit(trainX, trainY)\n",
        "preds = clf.predict(testX)\n",
        "acc = accuracy_score(testY,preds)\n",
        "precision = precision_score(testY,preds, average = 'macro')\n",
        "recall = recall_score(testY,preds, average = 'macro')\n",
        "f1Score = f1_score(testY,preds, average = 'macro')\n",
        "confusionMatrix_svm = confusion_matrix(testY,preds)\n",
        "report_svm = classification_report(testY,preds)\n",
        "meanSquaredError = mean_squared_error(testY,preds) ## calculating the mean squared error\n",
        "\n",
        "print(\"Accuracy: \", acc)\n",
        "print(\"Precision score: \", precision)\n",
        "print(\"Recall score: \", recall)\n",
        "print(\"F1 score: \", f1Score)\n",
        "print(\"Mean squared error: \", meanSquaredError)\n",
        "print(\"confusion_matrix: \\n\", confusionMatrix)\n",
        "print(\"Report: \\n\", report)\n"
      ]
    },
    {
      "cell_type": "markdown",
      "metadata": {
        "id": "Rb-xoxhCch7h"
      },
      "source": [
        "### For SVM, we can conclude that for c=80 and gamma = 0.6, along with bagging the model gives an accuracy of 84.14% on training data\n"
      ]
    },
    {
      "cell_type": "markdown",
      "metadata": {
        "id": "OoJ3LV4hc9ze"
      },
      "source": [
        "## Part3: Neural Net"
      ]
    },
    {
      "cell_type": "markdown",
      "metadata": {
        "id": "OoXUbDmAdHhX"
      },
      "source": [
        "### Importing the relevant libraries"
      ]
    },
    {
      "cell_type": "code",
      "execution_count": 80,
      "metadata": {
        "id": "hoFS8D8AZp3B"
      },
      "outputs": [],
      "source": [
        "from sklearn.neural_network import MLPClassifier"
      ]
    },
    {
      "cell_type": "markdown",
      "metadata": {
        "id": "i8_bwKNXpnSh"
      },
      "source": [
        "### Implementing cross validation to find the best value of alpha for a fixed hidden layers (14,14)"
      ]
    },
    {
      "cell_type": "code",
      "execution_count": 100,
      "metadata": {
        "id": "NygxE0egpvdh"
      },
      "outputs": [],
      "source": [
        "def cross_validation_NN(X,y):\n",
        "  alpha = [i*0.0001 for i in range(1,11)]\n",
        "  a = [] \n",
        "  f = []\n",
        "  errors = []\n",
        "  for each in alpha:\n",
        "    #Declare svm object\n",
        "    NN = MLPClassifier(solver='adam',hidden_layer_sizes=(14,14),alpha=each,max_iter=1000)\n",
        "    #Cross validate \n",
        "    scoring = cross_validate(NN, X, y, cv=5, scoring=(\"accuracy\",\"f1_macro\", \"neg_mean_squared_error\"))\n",
        "    avg_acc = np.average(scoring['test_accuracy'])\n",
        "    avg_f1 = np.average(scoring['test_f1_macro'])\n",
        "    err = np.average(scoring['test_neg_mean_squared_error'])\n",
        "    errors.append(err)\n",
        "    a.append(avg_acc)\n",
        "    f.append(avg_f1)\n",
        "  return a, f,errors"
      ]
    },
    {
      "cell_type": "code",
      "execution_count": 101,
      "metadata": {
        "id": "tHsPSbCdqTiN"
      },
      "outputs": [],
      "source": [
        "alpha = [i*0.0001 for i in range(1,11) ]   \n",
        "accuracies_NN, f1Score_NN, errors_NN = cross_validation_NN(trainX,trainY)"
      ]
    },
    {
      "cell_type": "code",
      "execution_count": 102,
      "metadata": {
        "colab": {
          "base_uri": "https://localhost:8080/",
          "height": 851
        },
        "id": "TgAnG1IHqdnC",
        "outputId": "1fe6c000-6c08-4c06-f528-19d896e1f2de"
      },
      "outputs": [
        {
          "data": {
            "image/png": "[encoded data removed]",
            "text/plain": [
              "<Figure size 432x288 with 1 Axes>"
            ]
          },
          "metadata": {
            "needs_background": "light"
          },
          "output_type": "display_data"
        },
        {
          "data": {
            "image/png": "[encoded data removed]",
            "text/plain": [
              "<Figure size 432x288 with 1 Axes>"
            ]
          },
          "metadata": {
            "needs_background": "light"
          },
          "output_type": "display_data"
        },
        {
          "data": {
            "image/png": "[encoded data removed]",
            "text/plain": [
              "<Figure size 432x288 with 1 Axes>"
            ]
          },
          "metadata": {
            "needs_background": "light"
          },
          "output_type": "display_data"
        }
      ],
      "source": [
        "#Plot Accuracy graph\n",
        "x = np.array(alpha)\n",
        "y = np.array(accuracies_NN)\n",
        "plt.plot(x,y)\n",
        "plt.xlabel('alpha')\n",
        "plt.ylabel('Accuracy')\n",
        "plt.title('Classification Accuracies')\n",
        "plt.show()\n",
        "\n",
        "\n",
        "#Plot F1 Score graph \n",
        "y2 = np.array(f1Score_NN)\n",
        "plt.plot(x,y2)\n",
        "plt.xlabel('alpha')\n",
        "plt.ylabel('F1 Score')\n",
        "plt.title('F1 Score')\n",
        "plt.show()\n",
        "\n",
        "#Pot neg mean squared error\n",
        "y3 = np.array(errors_NN)\n",
        "plt.plot(x,y3)\n",
        "plt.xlabel('alpha')\n",
        "plt.ylabel('Negative mean squared error')\n",
        "plt.title('Negative mean squared error vs Alphas (constant hidden layers)')\n",
        "plt.show()"
      ]
    },
    {
      "cell_type": "markdown",
      "metadata": {
        "id": "yLHGuZqSrAQg"
      },
      "source": [
        "## For the best values of alpha which are 0.0007 and 0.0008, we checked for the best hidden layer combination using trial and error which turned out to be (1024,512,256)"
      ]
    },
    {
      "cell_type": "markdown",
      "metadata": {
        "id": "BtgLFAEgvpjc"
      },
      "source": [
        "### Running on alpha = 0.0007 and hidden layers = (1024,512,256)"
      ]
    },
    {
      "cell_type": "code",
      "execution_count": 90,
      "metadata": {
        "colab": {
          "base_uri": "https://localhost:8080/"
        },
        "id": "uRa9ZjbGdTw5",
        "outputId": "66030b1e-e560-4961-d179-f78b2057fb72"
      },
      "outputs": [
        {
          "name": "stdout",
          "output_type": "stream",
          "text": [
            "Accuracy:  0.799482163406214\n",
            "Precision score:  0.7994174565131639\n",
            "Recall score:  0.7925379116594734\n",
            "F1 score:  0.7946673264530698\n",
            "Mean squared error:  0.4223245109321059\n",
            "confusion_matrix: \n",
            " [[ 802   96  114]\n",
            " [ 127  850  115]\n",
            " [  99   81 1192]]\n",
            "Report: \n",
            "               precision    recall  f1-score   support\n",
            "\n",
            "           0       0.76      0.76      0.76      1012\n",
            "           1       0.83      0.74      0.79      1092\n",
            "           2       0.80      0.87      0.84      1372\n",
            "\n",
            "    accuracy                           0.80      3476\n",
            "   macro avg       0.80      0.79      0.79      3476\n",
            "weighted avg       0.80      0.80      0.80      3476\n",
            "\n"
          ]
        }
      ],
      "source": [
        "NN = MLPClassifier(hidden_layer_sizes=(1024,512,256), max_iter=1000,alpha=0.0007)\n",
        "NN.fit(trainX,trainY)\n",
        "preds = NN.predict(testX)\n",
        "accuracy_NN = accuracy_score(testY,preds)\n",
        "f1Score = f1_score(testY,preds,average = 'macro')\n",
        "precision = precision_score(testY,preds,average = 'macro')\n",
        "recall = recall_score(testY,preds, average = 'macro')\n",
        "confusionMatrix_svm = confusion_matrix(testY,preds)\n",
        "report = classification_report(testY,preds)\n",
        "meanSquaredError = mean_squared_error(testY,preds) \n",
        "\n",
        "\n",
        "print(\"Accuracy: \", accuracy_NN)\n",
        "print(\"Precision score: \", precision)\n",
        "print(\"Recall score: \", recall)\n",
        "print(\"F1 score: \", f1Score)\n",
        "print(\"Mean squared error: \", meanSquaredError)\n",
        "print(\"confusion_matrix: \\n\", confusionMatrix)\n",
        "print(\"Report: \\n\", report)\n"
      ]
    },
    {
      "cell_type": "markdown",
      "metadata": {
        "id": "4AIxYwBo1xaq"
      },
      "source": [
        "## Plotting the loss curve now"
      ]
    },
    {
      "cell_type": "code",
      "execution_count": 92,
      "metadata": {
        "colab": {
          "base_uri": "https://localhost:8080/",
          "height": 295
        },
        "id": "fneoe9i51w5r",
        "outputId": "ffba3046-ba18-4d5a-eb6e-0c50ea050de0"
      },
      "outputs": [
        {
          "data": {
            "image/png": "[encoded data removed]",
            "text/plain": [
              "<Figure size 432x288 with 1 Axes>"
            ]
          },
          "metadata": {
            "needs_background": "light"
          },
          "output_type": "display_data"
        }
      ],
      "source": [
        "plt.plot(NN.loss_curve_)\n",
        "plt.xlabel('epochs')\n",
        "plt.ylabel('Loss')\n",
        "plt.title('Training Loss of NN')\n",
        "plt.show()"
      ]
    },
    {
      "cell_type": "markdown",
      "metadata": {
        "id": "oeegzNSF2IW-"
      },
      "source": [
        "### Now Running on alpha = 0.0008 and hidden layers = (1024,512,256)"
      ]
    },
    {
      "cell_type": "code",
      "execution_count": 93,
      "metadata": {
        "colab": {
          "base_uri": "https://localhost:8080/"
        },
        "id": "--RJuUmN2Nek",
        "outputId": "9adb5dea-d8aa-4b18-8fa4-599712f750eb"
      },
      "outputs": [
        {
          "name": "stdout",
          "output_type": "stream",
          "text": [
            "Accuracy:  0.7989067894131185\n",
            "Precision score:  0.7945453550949698\n",
            "Recall score:  0.7958537814349705\n",
            "F1 score:  0.7949076179074597\n",
            "Mean squared error:  0.41858457997698506\n",
            "confusion_matrix: \n",
            " [[ 802   96  114]\n",
            " [ 127  850  115]\n",
            " [  99   81 1192]]\n",
            "Report: \n",
            "               precision    recall  f1-score   support\n",
            "\n",
            "           0       0.76      0.75      0.75      1012\n",
            "           1       0.78      0.82      0.80      1092\n",
            "           2       0.85      0.82      0.83      1372\n",
            "\n",
            "    accuracy                           0.80      3476\n",
            "   macro avg       0.79      0.80      0.79      3476\n",
            "weighted avg       0.80      0.80      0.80      3476\n",
            "\n"
          ]
        }
      ],
      "source": [
        "NN = MLPClassifier(hidden_layer_sizes=(1024,512,256), max_iter=1000,alpha=0.0008)\n",
        "NN.fit(trainX,trainY)\n",
        "preds = NN.predict(testX)\n",
        "accuracy_NN = accuracy_score(testY,preds)\n",
        "f1Score = f1_score(testY,preds,average = 'macro')\n",
        "precision = precision_score(testY,preds,average = 'macro')\n",
        "recall = recall_score(testY,preds, average = 'macro')\n",
        "confusionMatrix_svm = confusion_matrix(testY,preds)\n",
        "report = classification_report(testY,preds)\n",
        "meanSquaredError = mean_squared_error(testY,preds) \n",
        "\n",
        "\n",
        "print(\"Accuracy: \", accuracy_NN)\n",
        "print(\"Precision score: \", precision)\n",
        "print(\"Recall score: \", recall)\n",
        "print(\"F1 score: \", f1Score)\n",
        "print(\"Mean squared error: \", meanSquaredError)\n",
        "print(\"confusion_matrix: \\n\", confusionMatrix)\n",
        "print(\"Report: \\n\", report)"
      ]
    },
    {
      "cell_type": "markdown",
      "metadata": {
        "id": "mMid3z4X5PSY"
      },
      "source": [
        "### Plotting the loss curve now"
      ]
    },
    {
      "cell_type": "code",
      "execution_count": 94,
      "metadata": {
        "colab": {
          "base_uri": "https://localhost:8080/",
          "height": 295
        },
        "id": "PBUpizax5OTf",
        "outputId": "a3b26b0d-8188-457f-fd3d-6218a35452f5"
      },
      "outputs": [
        {
          "data": {
            "image/png": "[encoded data removed]",
            "text/plain": [
              "<Figure size 432x288 with 1 Axes>"
            ]
          },
          "metadata": {
            "needs_background": "light"
          },
          "output_type": "display_data"
        }
      ],
      "source": [
        "plt.plot(NN.loss_curve_)\n",
        "plt.xlabel('epochs')\n",
        "plt.ylabel('Loss')\n",
        "plt.title('Training Loss of NN')\n",
        "plt.show()"
      ]
    },
    {
      "cell_type": "markdown",
      "metadata": {
        "id": "613AdrVq5Vu7"
      },
      "source": [
        "## Using bagging to improve accuracy of Neural Net. We noticed that we got the highest accuracy on alpha = 0.0001 and hidden layers = (1024,512,256) when we used bagging. However, the change in accuracy is very small if we change alpha to 0.0008 or 0.0007"
      ]
    },
    {
      "cell_type": "code",
      "execution_count": 99,
      "metadata": {
        "colab": {
          "base_uri": "https://localhost:8080/"
        },
        "id": "qCEa8Gz7v5fh",
        "outputId": "ee4f573e-56a4-48d7-b3ff-9826e8a180c3"
      },
      "outputs": [
        {
          "name": "stdout",
          "output_type": "stream",
          "text": [
            "Accuracy:  0.799482163406214\n",
            "Precision score:  0.795688541900691\n",
            "Recall score:  0.7982331924213023\n",
            "F1 score:  0.7965705351170965\n",
            "Mean squared error:  0.4318181818181818\n",
            "confusion_matrix: \n",
            " [[ 802   96  114]\n",
            " [ 127  850  115]\n",
            " [  99   81 1192]]\n",
            "Report: \n",
            "               precision    recall  f1-score   support\n",
            "\n",
            "           0       0.74      0.78      0.76      1012\n",
            "           1       0.80      0.81      0.80      1092\n",
            "           2       0.85      0.81      0.83      1372\n",
            "\n",
            "    accuracy                           0.80      3476\n",
            "   macro avg       0.80      0.80      0.80      3476\n",
            "weighted avg       0.80      0.80      0.80      3476\n",
            "\n"
          ]
        }
      ],
      "source": [
        "NN_Bagging = BaggingClassifier(base_estimator=MLPClassifier(hidden_layer_sizes=(1024,512,256), max_iter=1000),\n",
        "                        n_estimators=20, random_state=40).fit(trainX, trainY)\n",
        "preds = NN.predict(testX)\n",
        "accuracy_NN = accuracy_score(testY,preds)\n",
        "f1Score = f1_score(testY,preds,average = 'macro')\n",
        "precision = precision_score(testY,preds,average = 'macro')\n",
        "recall = recall_score(testY,preds, average = 'macro')\n",
        "confusionMatrix_svm = confusion_matrix(testY,preds)\n",
        "report = classification_report(testY,preds)\n",
        "meanSquaredError = mean_squared_error(testY,preds) \n",
        "\n",
        "\n",
        "print(\"Accuracy: \", accuracy_NN)\n",
        "print(\"Precision score: \", precision)\n",
        "print(\"Recall score: \", recall)\n",
        "print(\"F1 score: \", f1Score)\n",
        "print(\"Mean squared error: \", meanSquaredError)\n",
        "print(\"confusion_matrix: \\n\", confusionMatrix)\n",
        "print(\"Report: \\n\", report)\n"
      ]
    },
    {
      "cell_type": "markdown",
      "metadata": {
        "id": "J1MSqi1rPHRI"
      },
      "source": [
        "### For NN, we can conclude that for alpha = 0.0001 (default) and hidden layers = (1024,512,256) along with bagging, we get the maximum accuracy which is 79.95 ~ 80 %"
      ]
    },
    {
      "cell_type": "markdown",
      "metadata": {
        "id": "MZUCMIDpPquO"
      },
      "source": [
        "## End of Project Phase 2 \n",
        "\n",
        "---\n",
        "\n"
      ]
    },
    {
      "cell_type": "markdown",
      "metadata": {},
      "source": []
    }
  ],
  "metadata": {
    "colab": {
      "collapsed_sections": [],
      "name": "22100145_22100100_23100044_22100076_22100052_22020307_group9",
      "provenance": []
    },
    "kernelspec": {
      "display_name": "Python 3",
      "name": "python3"
    },
    "language_info": {
      "name": "python"
    }
  },
  "nbformat": 4,
  "nbformat_minor": 0
}
