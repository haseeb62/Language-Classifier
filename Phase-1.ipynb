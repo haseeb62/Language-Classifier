{
 "cells": [
  {
   "cell_type": "markdown",
   "metadata": {
    "id": "jTSLIYpL8M-q"
   },
   "source": [
    "recordings zip link = https://drive.google.com/file/d/1_Pry2orOFMDoK1IH9tSk-NKUAj-LxHs3/view?usp=sharing\n",
    "Note=I downloaded the above zip file and uploaded it on my drive for preprocessing.  \n",
    "My code drive link = https://drive.google.com/drive/folders/1andyrXRs0UhxIVgIgzBMBzjiiGj-Oy7D?usp=sharing"
   ]
  },
  {
   "cell_type": "markdown",
   "metadata": {
    "id": "qQDlwWAf3j3b"
   },
   "source": [
    "# 23100044\n",
    "# Haseeb ur Rehman Faheem "
   ]
  },
  {
   "cell_type": "code",
   "execution_count": 3,
   "metadata": {
    "colab": {
     "base_uri": "https://localhost:8080/"
    },
    "executionInfo": {
     "elapsed": 5514,
     "status": "ok",
     "timestamp": 1638120664550,
     "user": {
      "displayName": "Haseeb-Ur-Rehman Faheem",
      "photoUrl": "https://lh3.googleusercontent.com/a/default-user=s64",
      "userId": "08684161746149744429"
     },
     "user_tz": -300
    },
    "id": "ckBE0PzBCiC2",
    "outputId": "ec7dce32-2082-47af-ad70-d8d116c8090c"
   },
   "outputs": [
    {
     "name": "stdout",
     "output_type": "stream",
     "text": [
      "Collecting python_speech_features\n",
      "  Downloading python_speech_features-0.6.tar.gz (5.6 kB)\n",
      "Building wheels for collected packages: python-speech-features\n",
      "  Building wheel for python-speech-features (setup.py) ... \u001b[?25l\u001b[?25hdone\n",
      "  Created wheel for python-speech-features: filename=python_speech_features-0.6-py3-none-any.whl size=5888 sha256=1a4ec60063904dfb3874fbbc2c0f353ac07d1471a0ae6c8753833d5ea2657383\n",
      "  Stored in directory: /root/.cache/pip/wheels/b0/0e/94/28cd6afa3cd5998a63eef99fe31777acd7d758f59cf24839eb\n",
      "Successfully built python-speech-features\n",
      "Installing collected packages: python-speech-features\n",
      "Successfully installed python-speech-features-0.6\n"
     ]
    }
   ],
   "source": [
    "!pip install python_speech_features"
   ]
  },
  {
   "cell_type": "code",
   "execution_count": 4,
   "metadata": {
    "executionInfo": {
     "elapsed": 673,
     "status": "ok",
     "timestamp": 1638120666733,
     "user": {
      "displayName": "Haseeb-Ur-Rehman Faheem",
      "photoUrl": "https://lh3.googleusercontent.com/a/default-user=s64",
      "userId": "08684161746149744429"
     },
     "user_tz": -300
    },
    "id": "CXEdCVACReoH"
   },
   "outputs": [],
   "source": [
    "import python_speech_features as mfcc\n",
    "from scipy.io.wavfile import read\n",
    "import numpy as np\n",
    "import glob \n",
    "from google.colab import drive\n",
    "import glob\n"
   ]
  },
  {
   "cell_type": "code",
   "execution_count": 5,
   "metadata": {
    "executionInfo": {
     "elapsed": 4,
     "status": "ok",
     "timestamp": 1638120668482,
     "user": {
      "displayName": "Haseeb-Ur-Rehman Faheem",
      "photoUrl": "https://lh3.googleusercontent.com/a/default-user=s64",
      "userId": "08684161746149744429"
     },
     "user_tz": -300
    },
    "id": "SARte0n_Cnob"
   },
   "outputs": [],
   "source": [
    "def get_MFCC(audio, sr):\n",
    "    features = mfcc.mfcc(audio, sr, 0.025, 0.01, 13, appendEnergy = True)\n",
    "    return np.mean(features, axis=0)"
   ]
  },
  {
   "cell_type": "code",
   "execution_count": 6,
   "metadata": {
    "colab": {
     "base_uri": "https://localhost:8080/"
    },
    "executionInfo": {
     "elapsed": 26779,
     "status": "ok",
     "timestamp": 1638120697083,
     "user": {
      "displayName": "Haseeb-Ur-Rehman Faheem",
      "photoUrl": "https://lh3.googleusercontent.com/a/default-user=s64",
      "userId": "08684161746149744429"
     },
     "user_tz": -300
    },
    "id": "BWm1yytlC5bn",
    "outputId": "5702928e-0d12-4f0c-c9c8-24850891b1f7"
   },
   "outputs": [
    {
     "name": "stdout",
     "output_type": "stream",
     "text": [
      "Mounted at /content/drive\n"
     ]
    }
   ],
   "source": [
    "drive.mount('/content/drive')\n",
    "!unzip -o -q \"/content/drive/MyDrive/Recordings.zip\" -d \"/content/data/\"\n"
   ]
  },
  {
   "cell_type": "markdown",
   "metadata": {
    "id": "uwov7bW0thIE"
   },
   "source": [
    "Preprocessing for 5 classes, Englist, Urdu, Saraiki, Mixed and Punjabi."
   ]
  },
  {
   "cell_type": "code",
   "execution_count": 7,
   "metadata": {
    "colab": {
     "base_uri": "https://localhost:8080/"
    },
    "executionInfo": {
     "elapsed": 450,
     "status": "ok",
     "timestamp": 1638120700903,
     "user": {
      "displayName": "Haseeb-Ur-Rehman Faheem",
      "photoUrl": "https://lh3.googleusercontent.com/a/default-user=s64",
      "userId": "08684161746149744429"
     },
     "user_tz": -300
    },
    "id": "E9GHBDz9UfV5",
    "outputId": "bfa61012-d133-4a64-afa0-824b7c9bd506"
   },
   "outputs": [
    {
     "name": "stdout",
     "output_type": "stream",
     "text": [
      "Number of clips =  800\n"
     ]
    }
   ],
   "source": [
    "\n",
    "audio = []\n",
    "sr = []\n",
    "files = []\n",
    "y = []\n",
    "for i in glob.glob(\"/content/data/Recordings/*.wav\"):\n",
    "  eachword = (i.split('/')[4])\n",
    "  eachword= eachword.split('-')[0]\n",
    "  if eachword == 'en':\n",
    "    y.append(0)\n",
    "  elif eachword == 'ur':\n",
    "     y.append(1)\n",
    "  elif eachword == 'si':\n",
    "    y.append(2)\n",
    "  elif eachword == 'ue':\n",
    "    y.append(3)\n",
    "  elif eachword == 'pn':\n",
    "    y.append(4)\n",
    "  else:\n",
    "    print(\"eachword\")\n",
    "  sr1,audio1 = read(i)\n",
    "  audio.append(audio1)\n",
    "  sr.append(sr1)\n",
    "    \n",
    "print(\"Number of clips = \",len(audio))\n",
    "\n"
   ]
  },
  {
   "cell_type": "markdown",
   "metadata": {
    "id": "d1byCFKdluvV"
   },
   "source": [
    "One-hot encoding"
   ]
  },
  {
   "cell_type": "code",
   "execution_count": 8,
   "metadata": {
    "colab": {
     "base_uri": "https://localhost:8080/"
    },
    "executionInfo": {
     "elapsed": 454,
     "status": "ok",
     "timestamp": 1638120703996,
     "user": {
      "displayName": "Haseeb-Ur-Rehman Faheem",
      "photoUrl": "https://lh3.googleusercontent.com/a/default-user=s64",
      "userId": "08684161746149744429"
     },
     "user_tz": -300
    },
    "id": "qTKN1tHFbKyS",
    "outputId": "8cf38477-3b7b-4ea0-f620-79c21508c4cb"
   },
   "outputs": [
    {
     "name": "stdout",
     "output_type": "stream",
     "text": [
      "(800, 5)\n"
     ]
    }
   ],
   "source": [
    "\n",
    "y = np.array(y)\n",
    "y = y.astype(int)\n",
    "\n",
    "def indices_to_one_hot(data, nb_classes):\n",
    "    \"\"\"Convert an iterable of indices to one-hot encoded labels.\"\"\"\n",
    "    targets = np.array(data).reshape(-1)\n",
    "    return np.eye(nb_classes)[targets]\n",
    "\n",
    "Y = indices_to_one_hot(y,5)\n",
    "\n",
    "print(Y.shape)\n"
   ]
  },
  {
   "cell_type": "markdown",
   "metadata": {
    "id": "WspFo9JXlyMO"
   },
   "source": [
    "Concatenating 1 for bias"
   ]
  },
  {
   "cell_type": "code",
   "execution_count": 9,
   "metadata": {
    "executionInfo": {
     "elapsed": 16754,
     "status": "ok",
     "timestamp": 1638120759407,
     "user": {
      "displayName": "Haseeb-Ur-Rehman Faheem",
      "photoUrl": "https://lh3.googleusercontent.com/a/default-user=s64",
      "userId": "08684161746149744429"
     },
     "user_tz": -300
    },
    "id": "lJJPi9AAlEZd"
   },
   "outputs": [],
   "source": [
    "features = []\n",
    "for i in audio:\n",
    "  features.append(get_MFCC(i,16000))\n",
    "features = np.array(features) \n",
    "a = np.ones((800,1))\n",
    "features = np.hstack((a,features))\n"
   ]
  },
  {
   "cell_type": "code",
   "execution_count": 10,
   "metadata": {
    "colab": {
     "base_uri": "https://localhost:8080/"
    },
    "executionInfo": {
     "elapsed": 465,
     "status": "ok",
     "timestamp": 1638120764219,
     "user": {
      "displayName": "Haseeb-Ur-Rehman Faheem",
      "photoUrl": "https://lh3.googleusercontent.com/a/default-user=s64",
      "userId": "08684161746149744429"
     },
     "user_tz": -300
    },
    "id": "cuUHoCmhmwvx",
    "outputId": "08d2e519-ecf3-468c-e909-314d0ed1115a"
   },
   "outputs": [
    {
     "name": "stdout",
     "output_type": "stream",
     "text": [
      "(800, 14)\n"
     ]
    }
   ],
   "source": [
    "print(features.shape)"
   ]
  },
  {
   "cell_type": "markdown",
   "metadata": {
    "id": "1jqQOvCktwnH"
   },
   "source": [
    "Random Split of test and train datasets"
   ]
  },
  {
   "cell_type": "code",
   "execution_count": 11,
   "metadata": {
    "colab": {
     "base_uri": "https://localhost:8080/"
    },
    "executionInfo": {
     "elapsed": 595,
     "status": "ok",
     "timestamp": 1638120793077,
     "user": {
      "displayName": "Haseeb-Ur-Rehman Faheem",
      "photoUrl": "https://lh3.googleusercontent.com/a/default-user=s64",
      "userId": "08684161746149744429"
     },
     "user_tz": -300
    },
    "id": "yYO4kuFjrV_t",
    "outputId": "bad37acd-82fd-4b74-ef1e-4e7ff1d1882c"
   },
   "outputs": [
    {
     "name": "stdout",
     "output_type": "stream",
     "text": [
      "Trainx shape =  (640, 14)\n",
      "Trainy shape =  (160, 14)\n"
     ]
    }
   ],
   "source": [
    "testx = []\n",
    "testy = []\n",
    "trainx = []\n",
    "trainy = []\n",
    "\n",
    "\n",
    "random = np.random.permutation(800)\n",
    "\n",
    "for i in random[:640]: \n",
    "  trainx.append(features[i])\n",
    "  trainy.append(Y[i])\n",
    "for i in random[640:]:\n",
    "  testx.append(features[i])\n",
    "  testy.append(Y[i])\n",
    "\n",
    "trainy = np.array(trainy)\n",
    "trainx = np.array(trainx)\n",
    "testx = np.array(testx)\n",
    "testy = np.array(testy)\n",
    "\n",
    "print(\"Trainx shape = \",trainx.shape)\n",
    "print(\"Trainy shape = \",testx.shape)"
   ]
  },
  {
   "cell_type": "markdown",
   "metadata": {
    "id": "rqT1yr39tDxI"
   },
   "source": [
    "Softmax function"
   ]
  },
  {
   "cell_type": "code",
   "execution_count": 12,
   "metadata": {
    "executionInfo": {
     "elapsed": 447,
     "status": "ok",
     "timestamp": 1638120807300,
     "user": {
      "displayName": "Haseeb-Ur-Rehman Faheem",
      "photoUrl": "https://lh3.googleusercontent.com/a/default-user=s64",
      "userId": "08684161746149744429"
     },
     "user_tz": -300
    },
    "id": "v1FrW84YtDKN"
   },
   "outputs": [],
   "source": [
    "def softmax(vector):\n",
    "  out_array = np.exp(vector)\n",
    "  answer = []\n",
    "  den = np.sum(out_array,axis=1,keepdims=True)\n",
    "  return out_array/den\n",
    "  \n",
    "\n",
    "\n",
    "def forward_pass(a,b):\n",
    "  return np.dot(a,b)"
   ]
  },
  {
   "cell_type": "markdown",
   "metadata": {
    "id": "eRvRs_eBQimL"
   },
   "source": [
    "Cross Entropy Loss Function"
   ]
  },
  {
   "cell_type": "code",
   "execution_count": 13,
   "metadata": {
    "executionInfo": {
     "elapsed": 5,
     "status": "ok",
     "timestamp": 1638120809068,
     "user": {
      "displayName": "Haseeb-Ur-Rehman Faheem",
      "photoUrl": "https://lh3.googleusercontent.com/a/default-user=s64",
      "userId": "08684161746149744429"
     },
     "user_tz": -300
    },
    "id": "bASqm7CwxrQf"
   },
   "outputs": [],
   "source": [
    "def cross_entropy(x,y,w):\n",
    "  value = 0.0000\n",
    "  soft_max = softmax(forward_pass(x,w))\n",
    "  value = -np.multiply(y,np.log(soft_max)) \n",
    "\n",
    "  return np.mean(value)\n",
    "\n"
   ]
  },
  {
   "cell_type": "markdown",
   "metadata": {
    "id": "EMuMYC_8Ql11"
   },
   "source": [
    "Batch Gradient Descent Function"
   ]
  },
  {
   "cell_type": "code",
   "execution_count": 14,
   "metadata": {
    "executionInfo": {
     "elapsed": 444,
     "status": "ok",
     "timestamp": 1638120817126,
     "user": {
      "displayName": "Haseeb-Ur-Rehman Faheem",
      "photoUrl": "https://lh3.googleusercontent.com/a/default-user=s64",
      "userId": "08684161746149744429"
     },
     "user_tz": -300
    },
    "id": "fKuDtbEzBYkD"
   },
   "outputs": [],
   "source": [
    "def batch_gradient_descent(X,Y,alpha,epoch):\n",
    "\n",
    "  theeta = np.ones((14,5)) * 0.01\n",
    "  m = X.shape[0]\n",
    "  j = []\n",
    "  for n_epoch in range(epoch):\n",
    "    temp_theeta=[]\n",
    "    Y_ = softmax(forward_pass(X,theeta))\n",
    "    derivatives = np.dot(X.T,Y_-Y)  \n",
    "    theeta = theeta - ((alpha*derivatives)/m)\n",
    "    j.append(cross_entropy(X,Y,theeta))\n",
    "      # for k in range(0,len(theeta)):\n",
    "      #   theeta[k] = theeta[k] - temp_theeta[k]\n",
    "      \n",
    "  return theeta,j\n",
    "\n"
   ]
  },
  {
   "cell_type": "markdown",
   "metadata": {
    "id": "S9wc1g7wROBG"
   },
   "source": [
    "Testing on train dataset\n"
   ]
  },
  {
   "cell_type": "code",
   "execution_count": 15,
   "metadata": {
    "colab": {
     "base_uri": "https://localhost:8080/",
     "height": 330
    },
    "executionInfo": {
     "elapsed": 6348,
     "status": "ok",
     "timestamp": 1638120828637,
     "user": {
      "displayName": "Haseeb-Ur-Rehman Faheem",
      "photoUrl": "https://lh3.googleusercontent.com/a/default-user=s64",
      "userId": "08684161746149744429"
     },
     "user_tz": -300
    },
    "id": "HsAT8HcS_n_q",
    "outputId": "8e53a02b-72bf-4f55-c416-c8a96758e76f"
   },
   "outputs": [
    {
     "name": "stdout",
     "output_type": "stream",
     "text": [
      "Cross entropy loss error =  [0.1466294778078444]\n"
     ]
    },
    {
     "data": {
      "text/plain": [
       "[<matplotlib.lines.Line2D at 0x7f434bcd4950>]"
      ]
     },
     "execution_count": 15,
     "metadata": {},
     "output_type": "execute_result"
    },
    {
     "data": {
      "image/png": "[encoded data removed]",
      "text/plain": [
       "<Figure size 432x288 with 1 Axes>"
      ]
     },
     "metadata": {
      "needs_background": "light"
     },
     "output_type": "display_data"
    }
   ],
   "source": [
    "weights,error = batch_gradient_descent(trainx,trainy,0.0001,15000)\n",
    "print(\"Cross entropy loss error = \",error[-1:])\n",
    "from matplotlib import pyplot as plt\n",
    "plt.title(\"15000 epochs and 0.0001 Learning Rate\")\n",
    "plt.xlabel(\"epochs\")\n",
    "plt.ylabel(\"Validation Loss\")\n",
    "plt.plot([i for i in range(15000)],error)"
   ]
  },
  {
   "cell_type": "code",
   "execution_count": 16,
   "metadata": {
    "colab": {
     "base_uri": "https://localhost:8080/",
     "height": 330
    },
    "executionInfo": {
     "elapsed": 6467,
     "status": "ok",
     "timestamp": 1638120891058,
     "user": {
      "displayName": "Haseeb-Ur-Rehman Faheem",
      "photoUrl": "https://lh3.googleusercontent.com/a/default-user=s64",
      "userId": "08684161746149744429"
     },
     "user_tz": -300
    },
    "id": "Ivg2hkXtf7Ko",
    "outputId": "cfc84e58-c67e-46ae-83bb-eb25c6908f75"
   },
   "outputs": [
    {
     "name": "stdout",
     "output_type": "stream",
     "text": [
      "Cross entropy loss error =  [0.1377399982736633]\n"
     ]
    },
    {
     "data": {
      "text/plain": [
       "[<matplotlib.lines.Line2D at 0x7f434b66f850>]"
      ]
     },
     "execution_count": 16,
     "metadata": {},
     "output_type": "execute_result"
    },
    {
     "data": {
      "image/png": "[encoded data removed]",
      "text/plain": [
       "<Figure size 432x288 with 1 Axes>"
      ]
     },
     "metadata": {
      "needs_background": "light"
     },
     "output_type": "display_data"
    }
   ],
   "source": [
    "weights,error = batch_gradient_descent(trainx,trainy,0.001,15000)\n",
    "print(\"Cross entropy loss error = \",error[-1:])\n",
    "from matplotlib import pyplot as plt\n",
    "plt.title(\"15000 epochs and 0.001 Learning Rate\")\n",
    "plt.xlabel(\"epochs\")\n",
    "plt.ylabel(\"Validation Loss\")\n",
    "plt.plot([i for i in range(15000)],error)"
   ]
  },
  {
   "cell_type": "code",
   "execution_count": 20,
   "metadata": {
    "colab": {
     "base_uri": "https://localhost:8080/",
     "height": 330
    },
    "executionInfo": {
     "elapsed": 11696,
     "status": "ok",
     "timestamp": 1638121131193,
     "user": {
      "displayName": "Haseeb-Ur-Rehman Faheem",
      "photoUrl": "https://lh3.googleusercontent.com/a/default-user=s64",
      "userId": "08684161746149744429"
     },
     "user_tz": -300
    },
    "id": "cn02jAGVGN42",
    "outputId": "40304a3f-83b3-4c28-cbe0-42605839d14f"
   },
   "outputs": [
    {
     "name": "stdout",
     "output_type": "stream",
     "text": [
      "Cross entropy loss error =  [0.13662126316191814]\n"
     ]
    },
    {
     "data": {
      "text/plain": [
       "[<matplotlib.lines.Line2D at 0x7f434a1ac690>]"
      ]
     },
     "execution_count": 20,
     "metadata": {},
     "output_type": "execute_result"
    },
    {
     "data": {
      "image/png": "[encoded data removed]",
      "text/plain": [
       "<Figure size 432x288 with 1 Axes>"
      ]
     },
     "metadata": {
      "needs_background": "light"
     },
     "output_type": "display_data"
    }
   ],
   "source": [
    "weights,error = batch_gradient_descent(trainx,trainy,0.001,30000)\n",
    "\n",
    "print(\"Cross entropy loss error = \",error[-1:])\n",
    "from matplotlib import pyplot as plt\n",
    "plt.title(\"30000 epochs and 0.001 Learning Rate\")\n",
    "plt.xlabel(\"epochs\")\n",
    "plt.ylabel(\"Validation Loss\")\n",
    "plt.plot([i for i in range(30000)],error)"
   ]
  },
  {
   "cell_type": "markdown",
   "metadata": {
    "id": "MQUVGtZ0Re_C"
   },
   "source": [
    "Predict Function and calculating accuracy on the test dataset"
   ]
  },
  {
   "cell_type": "code",
   "execution_count": 21,
   "metadata": {
    "executionInfo": {
     "elapsed": 435,
     "status": "ok",
     "timestamp": 1638121138565,
     "user": {
      "displayName": "Haseeb-Ur-Rehman Faheem",
      "photoUrl": "https://lh3.googleusercontent.com/a/default-user=s64",
      "userId": "08684161746149744429"
     },
     "user_tz": -300
    },
    "id": "qQMqvGS-oGA0"
   },
   "outputs": [],
   "source": [
    "\n",
    "def predict(X,weights):\n",
    "  y_ = softmax(forward_pass(X,weights))\n",
    "  return np.argmax(y_,axis=1)\n",
    "  \n",
    "y_ = predict(testx,weights)\n",
    "accuracy = 0\n",
    "testy = testy.astype(int)\n",
    "for i in range(0,len(y_)):\n",
    "  if testy[i][y_[i]] == 1:\n",
    "    accuracy +=1\n",
    "\n",
    "  \n",
    "accuracy = accuracy/len(y_)\n"
   ]
  },
  {
   "cell_type": "markdown",
   "metadata": {
    "id": "1Z1DwgYERlEz"
   },
   "source": [
    "Confusion Matrix, Accuracy and Macro f1 score  "
   ]
  },
  {
   "cell_type": "code",
   "execution_count": 22,
   "metadata": {
    "colab": {
     "base_uri": "https://localhost:8080/"
    },
    "executionInfo": {
     "elapsed": 464,
     "status": "ok",
     "timestamp": 1638121141219,
     "user": {
      "displayName": "Haseeb-Ur-Rehman Faheem",
      "photoUrl": "https://lh3.googleusercontent.com/a/default-user=s64",
      "userId": "08684161746149744429"
     },
     "user_tz": -300
    },
    "id": "scXdwaUkoJtr",
    "outputId": "fe7f839a-8465-4da1-fc4a-4b7209c24e40"
   },
   "outputs": [
    {
     "name": "stdout",
     "output_type": "stream",
     "text": [
      "CONFUSION MATRIX\n",
      "Predicted   0   1   2   3   4  All\n",
      "Actual                            \n",
      "0          16  10   0   6   1   33\n",
      "1           8  13   0   9   0   30\n",
      "2           0   1  16   0   0   17\n",
      "3           5   9   0  40   1   55\n",
      "4           2   0   0   0  23   25\n",
      "All        31  33  16  55  25  160\n",
      "\n",
      "\n",
      "Accuracy on test dataset =  0.675\n",
      "MACRO F-1 Score on test dataset =  0.706\n"
     ]
    }
   ],
   "source": [
    "import pandas as pd\n",
    "def matrix(predicted,actual):\n",
    "    y_actu = pd.Series(actual, name='Actual')\n",
    "    y_pred = pd.Series(predicted, name='Predicted')\n",
    "\n",
    "    df_confusion = pd.crosstab(y_actu, y_pred)\n",
    "    df_conf_norm = df_confusion / df_confusion.sum(axis=1)\n",
    "    df_confusion = pd.crosstab(y_actu, y_pred, rownames=['Actual'], colnames=['Predicted'], margins=True)\n",
    "    print(df_confusion)\n",
    "def f1(actual, predicted, label):\n",
    "\n",
    "    \"\"\" A helper function to calculate f1-score for the given `label` \"\"\"\n",
    "\n",
    "    # F1 = 2 * (precision * recall) / (precision + recall)\n",
    "    tp = np.sum((actual==label) & (predicted==label))\n",
    "    fp = np.sum((actual!=label) & (predicted==label))\n",
    "    fn = np.sum((predicted!=label) & (actual==label))\n",
    "    if tp == 0 or fn == 0:\n",
    "        tp +=1\n",
    "    precision = tp/(tp+fp)\n",
    "    recall = tp/(tp+fn)\n",
    "    f1 = 2 * (precision * recall) / (precision + recall)\n",
    "    return f1\n",
    "\n",
    "def f1_macro(actual, predicted):\n",
    "    # `macro` f1- unweighted mean of f1 per label\n",
    "    return np.mean([f1(actual, predicted, label) \n",
    "        for label in np.unique(actual)])\n",
    "    \n",
    "f1_macro = f1_macro(y_,np.argmax((testy),axis=1))\n",
    "# print(y_)\n",
    "# print(np.argmax((testy),axis=1))\n",
    "print(\"CONFUSION MATRIX\")\n",
    "matrix(y_,np.argmax((testy),axis=1))\n",
    "print(\"\\n\\nAccuracy on test dataset = \", round(accuracy,3))\n",
    "print(\"MACRO F-1 Score on test dataset = \",round(f1_macro,3))\n",
    "\n"
   ]
  },
  {
   "cell_type": "markdown",
   "metadata": {
    "id": "sLWI4yCPPGZv"
   },
   "source": [
    "Precision and Recall of all the classes "
   ]
  },
  {
   "cell_type": "code",
   "execution_count": 23,
   "metadata": {
    "colab": {
     "base_uri": "https://localhost:8080/"
    },
    "executionInfo": {
     "elapsed": 577,
     "status": "ok",
     "timestamp": 1638121368937,
     "user": {
      "displayName": "Haseeb-Ur-Rehman Faheem",
      "photoUrl": "https://lh3.googleusercontent.com/a/default-user=s64",
      "userId": "08684161746149744429"
     },
     "user_tz": -300
    },
    "id": "kPNXMru8M20F",
    "outputId": "26d8a548-f06f-4bd1-ec02-f87980ff90cd"
   },
   "outputs": [
    {
     "name": "stdout",
     "output_type": "stream",
     "text": [
      "Precision of English =  0.485 Recall of English =  0.516\n",
      "Precision of Urdu =  0.433 Recall of Urdu =  0.394\n",
      "Precision of Seraiki =  0.944 Recall of Seraiki =  1.0\n",
      "Precision of Mixed =  0.727 Recall of Mixed =  0.727\n",
      "Precision of Punjabi =  0.92 Recall of Punjabi =  0.92\n"
     ]
    }
   ],
   "source": [
    "def precision_recall(actual, predicted, label):\n",
    "\n",
    "    \"\"\" A helper function to calculate f1-score for the given `label` \"\"\"\n",
    "\n",
    "    # F1 = 2 * (precision * recall) / (precision + recall)\n",
    "    tp = np.sum((actual==label) & (predicted==label))\n",
    "    fp = np.sum((actual!=label) & (predicted==label))\n",
    "    fn = np.sum((predicted!=label) & (actual==label))\n",
    "    if tp == 0 or fn == 0:\n",
    "        tp +=1\n",
    "    precision = tp/(tp+fp)\n",
    "    recall = tp/(tp+fn)\n",
    "    f1 = 2 * (precision * recall) / (precision + recall)\n",
    "    return precision,recall\n",
    "precision1,recall1 = precision_recall(y_,np.argmax((testy),axis=1),0)\n",
    "precision2,recall2 = precision_recall(y_,np.argmax((testy),axis=1),1)\n",
    "precision3,recall3 = precision_recall(y_,np.argmax((testy),axis=1),2)\n",
    "precision4,recall4 = precision_recall(y_,np.argmax((testy),axis=1),3)\n",
    "precision5,recall5 = precision_recall(y_,np.argmax((testy),axis=1),4)\n",
    "\n",
    "\n",
    "print(\"Precision of English = \" ,round(precision1,3)  , \"Recall of English = \" ,round(recall1,3))\n",
    "print(\"Precision of Urdu = \" ,round(precision2,3)  , \"Recall of Urdu = \" ,round(recall2,3))\n",
    "print(\"Precision of Seraiki = \" ,round(precision3,3)  , \"Recall of Seraiki = \" ,round(recall3,3))\n",
    "print(\"Precision of Mixed = \" ,round(precision4,3)  , \"Recall of Mixed = \" ,round(recall4,3))\n",
    "print(\"Precision of Punjabi = \" ,round(precision5,3)  , \"Recall of Punjabi = \" ,round(recall5,3))\n"
   ]
  },
  {
   "cell_type": "markdown",
   "metadata": {
    "id": "DgnMs3r1RwFZ"
   },
   "source": [
    "PART 2 using SKLEARN Logistic regression, accuracy score and confusion matrix function."
   ]
  },
  {
   "cell_type": "code",
   "execution_count": 24,
   "metadata": {
    "executionInfo": {
     "elapsed": 944,
     "status": "ok",
     "timestamp": 1638121374175,
     "user": {
      "displayName": "Haseeb-Ur-Rehman Faheem",
      "photoUrl": "https://lh3.googleusercontent.com/a/default-user=s64",
      "userId": "08684161746149744429"
     },
     "user_tz": -300
    },
    "id": "NHvTh1owkrY4"
   },
   "outputs": [],
   "source": [
    "from sklearn.metrics import accuracy_score as a_s, confusion_matrix as c_m\n",
    "from sklearn.linear_model import LogisticRegression\n",
    "from sklearn.metrics import accuracy_score\n",
    "from sklearn.metrics import confusion_matrix\n",
    "\n"
   ]
  },
  {
   "cell_type": "markdown",
   "metadata": {
    "id": "OaJgiAQIuU0P"
   },
   "source": [
    "Splitting the train and test datasets randomly and not doing any one-hot encoding"
   ]
  },
  {
   "cell_type": "code",
   "execution_count": 25,
   "metadata": {
    "colab": {
     "base_uri": "https://localhost:8080/"
    },
    "executionInfo": {
     "elapsed": 433,
     "status": "ok",
     "timestamp": 1638121407509,
     "user": {
      "displayName": "Haseeb-Ur-Rehman Faheem",
      "photoUrl": "https://lh3.googleusercontent.com/a/default-user=s64",
      "userId": "08684161746149744429"
     },
     "user_tz": -300
    },
    "id": "_HE6amzGhXhN",
    "outputId": "cba03519-2324-4963-c812-a2d13c9bcef5"
   },
   "outputs": [
    {
     "name": "stdout",
     "output_type": "stream",
     "text": [
      "Shape of trainx =  (640, 14)\n",
      "Shape of trainy =  (640,)\n"
     ]
    }
   ],
   "source": [
    "\n",
    "testx1 = []\n",
    "testy1 = []\n",
    "trainx1 = []\n",
    "trainy1 = []\n",
    "\n",
    "random = np.random.permutation(800)\n",
    "\n",
    "for i in random[:640]: \n",
    "  trainx1.append(features[i])\n",
    "  trainy1.append(y[i])\n",
    "for i in random[640:]:\n",
    "  testx1.append(features[i])\n",
    "  testy1.append(y[i])\n",
    "\n",
    "trainy1 = np.array(trainy1)\n",
    "trainx1 = np.array(trainx1)\n",
    "testx1 = np.array(testx1)\n",
    "testy1 = np.array(testy1)\n",
    "\n",
    "print(\"Shape of trainx = \",trainx1.shape)\n",
    "print(\"Shape of trainy = \",trainy1.shape)"
   ]
  },
  {
   "cell_type": "code",
   "execution_count": 36,
   "metadata": {
    "colab": {
     "base_uri": "https://localhost:8080/"
    },
    "executionInfo": {
     "elapsed": 4202,
     "status": "ok",
     "timestamp": 1638122726013,
     "user": {
      "displayName": "Haseeb-Ur-Rehman Faheem",
      "photoUrl": "https://lh3.googleusercontent.com/a/default-user=s64",
      "userId": "08684161746149744429"
     },
     "user_tz": -300
    },
    "id": "kQpm8o2FhK1P",
    "outputId": "7dd5ed55-30ad-4df0-a653-0df3f65f9e32"
   },
   "outputs": [
    {
     "name": "stdout",
     "output_type": "stream",
     "text": [
      "Accuracy =  0.66875\n"
     ]
    },
    {
     "data": {
      "text/plain": [
       "array([[21,  4,  0,  4,  0],\n",
       "       [14, 14,  0,  1,  0],\n",
       "       [ 0,  0, 18,  0,  0],\n",
       "       [16, 14,  0, 35,  0],\n",
       "       [ 0,  0,  0,  0, 19]])"
      ]
     },
     "execution_count": 36,
     "metadata": {},
     "output_type": "execute_result"
    }
   ],
   "source": [
    "lreg = LogisticRegression(max_iter= 10000)\n",
    "lreg.fit(trainx1,trainy1)\n",
    "predicted = lreg.predict(testx1)\n",
    "print(\"Accuracy = \",accuracy_score(predicted,testy1))\n",
    "\n",
    "confusion_matrix(predicted,testy1)"
   ]
  }
 ],
 "metadata": {
  "accelerator": "GPU",
  "colab": {
   "collapsed_sections": [],
   "name": "Untitled-1.ipynb",
   "provenance": []
  },
  "kernelspec": {
   "display_name": "Python 3",
   "language": "python",
   "name": "python3"
  },
  "language_info": {
   "codemirror_mode": {
    "name": "ipython",
    "version": 3
   },
   "file_extension": ".py",
   "mimetype": "text/x-python",
   "name": "python",
   "nbconvert_exporter": "python",
   "pygments_lexer": "ipython3",
   "version": "3.9.1"
  }
 },
 "nbformat": 4,
 "nbformat_minor": 1
}
